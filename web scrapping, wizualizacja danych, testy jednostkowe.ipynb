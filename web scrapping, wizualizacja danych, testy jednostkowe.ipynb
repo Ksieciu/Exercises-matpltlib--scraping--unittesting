{
 "cells": [
  {
   "cell_type": "code",
   "execution_count": 1,
   "metadata": {},
   "outputs": [],
   "source": [
    "import pandas as pd\n",
    "import time\n",
    "links = pd.read_html('http://cdv.brightcode.pl/wolneodpracy/')"
   ]
  },
  {
   "cell_type": "code",
   "execution_count": 2,
   "metadata": {},
   "outputs": [
    {
     "data": {
      "text/plain": [
       "[    rok                                             URL  link\n",
       " 0  2018  http://cdv.brightcode.pl/wolneodpracy/2018.php  2018\n",
       " 1  2019  http://cdv.brightcode.pl/wolneodpracy/2019.php  2019]"
      ]
     },
     "execution_count": 2,
     "metadata": {},
     "output_type": "execute_result"
    }
   ],
   "source": [
    "links"
   ]
  },
  {
   "cell_type": "code",
   "execution_count": 3,
   "metadata": {
    "scrolled": true
   },
   "outputs": [
    {
     "data": {
      "text/html": [
       "<div>\n",
       "<style scoped>\n",
       "    .dataframe tbody tr th:only-of-type {\n",
       "        vertical-align: middle;\n",
       "    }\n",
       "\n",
       "    .dataframe tbody tr th {\n",
       "        vertical-align: top;\n",
       "    }\n",
       "\n",
       "    .dataframe thead th {\n",
       "        text-align: right;\n",
       "    }\n",
       "</style>\n",
       "<table border=\"1\" class=\"dataframe\">\n",
       "  <thead>\n",
       "    <tr style=\"text-align: right;\">\n",
       "      <th></th>\n",
       "      <th>rok</th>\n",
       "      <th>URL</th>\n",
       "      <th>link</th>\n",
       "    </tr>\n",
       "  </thead>\n",
       "  <tbody>\n",
       "    <tr>\n",
       "      <th>0</th>\n",
       "      <td>2018</td>\n",
       "      <td>http://cdv.brightcode.pl/wolneodpracy/2018.php</td>\n",
       "      <td>2018</td>\n",
       "    </tr>\n",
       "    <tr>\n",
       "      <th>1</th>\n",
       "      <td>2019</td>\n",
       "      <td>http://cdv.brightcode.pl/wolneodpracy/2019.php</td>\n",
       "      <td>2019</td>\n",
       "    </tr>\n",
       "  </tbody>\n",
       "</table>\n",
       "</div>"
      ],
      "text/plain": [
       "    rok                                             URL  link\n",
       "0  2018  http://cdv.brightcode.pl/wolneodpracy/2018.php  2018\n",
       "1  2019  http://cdv.brightcode.pl/wolneodpracy/2019.php  2019"
      ]
     },
     "execution_count": 3,
     "metadata": {},
     "output_type": "execute_result"
    }
   ],
   "source": [
    "linksDF = links[0]\n",
    "time.sleep(3)\n",
    "linksDF"
   ]
  },
  {
   "cell_type": "code",
   "execution_count": 4,
   "metadata": {},
   "outputs": [
    {
     "data": {
      "text/plain": [
       "[           Data         Dzień                                  Święta\n",
       " 0     1 styczeń  poniedziałek                                Nowy Rok\n",
       " 1     6 styczeń        sobota                     Święto Trzech Króli\n",
       " 2    1 kwiecień     niedziela                               Wielkanoc\n",
       " 3    2 kwiecień  poniedziałek                Poniedziałek Wielkanocny\n",
       " 4         1 maj        wtorek                            Święto Pracy\n",
       " 5         3 maj      czwartek               Święto Konstytucji 3 Maja\n",
       " 6        20 maj     niedziela                         Zielone Świątki\n",
       " 7        31 maj      czwartek                              Boże Ciało\n",
       " 8   15 sierpień         środa  Wniebowzięcie Najświętszej Maryi Panny\n",
       " 9    1 listopad      czwartek                     Wszystkich Świętych\n",
       " 10  11 listopad     niedziela                   Święto Niepodległości\n",
       " 11  25 grudzień        wtorek        Pierwszy dzień Bożego Narodzenia\n",
       " 12  26 grudzień         środa           Drugi dzień Bożego Narodzenia,\n",
       "    Ile dni?                     Data                     Które święta zawiera\n",
       " 0         3  30 grudnia - 1 stycznia      Nowy Rok, Świętej Bożej Rodzicielki\n",
       " 1         3    31 marca - 2 kwietnia      Wielkanoc, Poniedziałek Wielkanocny\n",
       " 2         4     28 kwietnia - 1 maja                             Święto Pracy\n",
       " 3         4               3 - 6 maja                Święto Konstytucji 3 Maja\n",
       " 4         4      31 maja - 3 czerwca                               Boże Ciało\n",
       " 5         4          1 - 4 listopada                      Wszystkich Świętych\n",
       " 6         5          22 - 26 grudnia  pierwszy dzień świąt, drugi dzień świąt]"
      ]
     },
     "execution_count": 4,
     "metadata": {},
     "output_type": "execute_result"
    }
   ],
   "source": [
    "link2018 = pd.read_html(linksDF['URL'][0])\n",
    "time.sleep(3)\n",
    "link2018"
   ]
  },
  {
   "cell_type": "code",
   "execution_count": 5,
   "metadata": {},
   "outputs": [
    {
     "data": {
      "text/plain": [
       "[           Data         Dzień                                  Święta\n",
       " 0     1 styczeń        wtorek                                Nowy Rok\n",
       " 1     6 styczeń     niedziela                     Święto Trzech Króli\n",
       " 2   21 kwiecień     niedziela                               Wielkanoc\n",
       " 3   22 kwiecień  poniedziałek                Poniedziałek Wielkanocny\n",
       " 4         1 maj         środa                            Święto Pracy\n",
       " 5         3 maj        piątek               Święto Konstytucji 3 Maja\n",
       " 6    9 czerwiec     niedziela                         Zielone Świątki\n",
       " 7   20 czerwiec      czwartek                              Boże Ciało\n",
       " 8   15 sierpień      czwartek  Wniebowzięcie Najświętszej Maryi Panny\n",
       " 9    1 listopad        piątek                     Wszystkich Świętych\n",
       " 10  11 listopad  poniedziałek                   Święto Niepodległości\n",
       " 11  25 grudzień         środa        Pierwszy dzień Bożego Narodzenia\n",
       " 12  26 grudzień      czwartek           Drugi dzień Bożego Narodzenia,\n",
       "    Ile dni?                     Data  \\\n",
       " 0         4  29 grudnia - 1 stycznia   \n",
       " 1         3         20 - 22 kwietnia   \n",
       " 2         5               1 - 5 maja   \n",
       " 3         4          20 - 23 czerwca   \n",
       " 4         4         15 - 18 sierpnia   \n",
       " 5         3          1 - 3 listopada   \n",
       " 6         3         9 - 11 listopada   \n",
       " 7         5          25 - 29 grudnia   \n",
       " \n",
       "                                 Które święta zawiera  \n",
       " 0                Nowy Rok, Świętej Bożej Rodzicielki  \n",
       " 1                Wielkanoc, Poniedziałek Wielkanocny  \n",
       " 2            Święto Pracy, Święto Konstytucji 3 Maja  \n",
       " 3                                         Boże Ciało  \n",
       " 4  Święto Wojska Polskiego, Wniebowzięcie Najświę...  \n",
       " 5                                Wszystkich Świętych  \n",
       " 6                              Święto Niepodległości  \n",
       " 7  Boże Narodzenie (pierwszy dzień), Boże Narodze...  ]"
      ]
     },
     "execution_count": 5,
     "metadata": {},
     "output_type": "execute_result"
    }
   ],
   "source": [
    "link2019 = pd.read_html(linksDF['URL'][1])\n",
    "time.sleep(3)\n",
    "link2019"
   ]
  },
  {
   "cell_type": "code",
   "execution_count": 6,
   "metadata": {},
   "outputs": [],
   "source": [
    "dniWolne2018 = link2018[0]\n",
    "dlugieWeekendy2018 = link2018[1]\n",
    "\n",
    "dniWolne2019 = link2019[0]\n",
    "dlugieWeekendy2019 = link2019[1]"
   ]
  },
  {
   "cell_type": "code",
   "execution_count": 7,
   "metadata": {},
   "outputs": [
    {
     "data": {
      "text/html": [
       "<div>\n",
       "<style scoped>\n",
       "    .dataframe tbody tr th:only-of-type {\n",
       "        vertical-align: middle;\n",
       "    }\n",
       "\n",
       "    .dataframe tbody tr th {\n",
       "        vertical-align: top;\n",
       "    }\n",
       "\n",
       "    .dataframe thead th {\n",
       "        text-align: right;\n",
       "    }\n",
       "</style>\n",
       "<table border=\"1\" class=\"dataframe\">\n",
       "  <thead>\n",
       "    <tr style=\"text-align: right;\">\n",
       "      <th></th>\n",
       "      <th>Data</th>\n",
       "      <th>Dzień</th>\n",
       "      <th>Święta</th>\n",
       "    </tr>\n",
       "  </thead>\n",
       "  <tbody>\n",
       "    <tr>\n",
       "      <th>0</th>\n",
       "      <td>1 styczeń</td>\n",
       "      <td>poniedziałek</td>\n",
       "      <td>Nowy Rok</td>\n",
       "    </tr>\n",
       "    <tr>\n",
       "      <th>1</th>\n",
       "      <td>6 styczeń</td>\n",
       "      <td>sobota</td>\n",
       "      <td>Święto Trzech Króli</td>\n",
       "    </tr>\n",
       "    <tr>\n",
       "      <th>2</th>\n",
       "      <td>1 kwiecień</td>\n",
       "      <td>niedziela</td>\n",
       "      <td>Wielkanoc</td>\n",
       "    </tr>\n",
       "    <tr>\n",
       "      <th>3</th>\n",
       "      <td>2 kwiecień</td>\n",
       "      <td>poniedziałek</td>\n",
       "      <td>Poniedziałek Wielkanocny</td>\n",
       "    </tr>\n",
       "    <tr>\n",
       "      <th>4</th>\n",
       "      <td>1 maj</td>\n",
       "      <td>wtorek</td>\n",
       "      <td>Święto Pracy</td>\n",
       "    </tr>\n",
       "    <tr>\n",
       "      <th>5</th>\n",
       "      <td>3 maj</td>\n",
       "      <td>czwartek</td>\n",
       "      <td>Święto Konstytucji 3 Maja</td>\n",
       "    </tr>\n",
       "    <tr>\n",
       "      <th>6</th>\n",
       "      <td>20 maj</td>\n",
       "      <td>niedziela</td>\n",
       "      <td>Zielone Świątki</td>\n",
       "    </tr>\n",
       "    <tr>\n",
       "      <th>7</th>\n",
       "      <td>31 maj</td>\n",
       "      <td>czwartek</td>\n",
       "      <td>Boże Ciało</td>\n",
       "    </tr>\n",
       "    <tr>\n",
       "      <th>8</th>\n",
       "      <td>15 sierpień</td>\n",
       "      <td>środa</td>\n",
       "      <td>Wniebowzięcie Najświętszej Maryi Panny</td>\n",
       "    </tr>\n",
       "    <tr>\n",
       "      <th>9</th>\n",
       "      <td>1 listopad</td>\n",
       "      <td>czwartek</td>\n",
       "      <td>Wszystkich Świętych</td>\n",
       "    </tr>\n",
       "    <tr>\n",
       "      <th>10</th>\n",
       "      <td>11 listopad</td>\n",
       "      <td>niedziela</td>\n",
       "      <td>Święto Niepodległości</td>\n",
       "    </tr>\n",
       "    <tr>\n",
       "      <th>11</th>\n",
       "      <td>25 grudzień</td>\n",
       "      <td>wtorek</td>\n",
       "      <td>Pierwszy dzień Bożego Narodzenia</td>\n",
       "    </tr>\n",
       "    <tr>\n",
       "      <th>12</th>\n",
       "      <td>26 grudzień</td>\n",
       "      <td>środa</td>\n",
       "      <td>Drugi dzień Bożego Narodzenia</td>\n",
       "    </tr>\n",
       "  </tbody>\n",
       "</table>\n",
       "</div>"
      ],
      "text/plain": [
       "           Data         Dzień                                  Święta\n",
       "0     1 styczeń  poniedziałek                                Nowy Rok\n",
       "1     6 styczeń        sobota                     Święto Trzech Króli\n",
       "2    1 kwiecień     niedziela                               Wielkanoc\n",
       "3    2 kwiecień  poniedziałek                Poniedziałek Wielkanocny\n",
       "4         1 maj        wtorek                            Święto Pracy\n",
       "5         3 maj      czwartek               Święto Konstytucji 3 Maja\n",
       "6        20 maj     niedziela                         Zielone Świątki\n",
       "7        31 maj      czwartek                              Boże Ciało\n",
       "8   15 sierpień         środa  Wniebowzięcie Najświętszej Maryi Panny\n",
       "9    1 listopad      czwartek                     Wszystkich Świętych\n",
       "10  11 listopad     niedziela                   Święto Niepodległości\n",
       "11  25 grudzień        wtorek        Pierwszy dzień Bożego Narodzenia\n",
       "12  26 grudzień         środa           Drugi dzień Bożego Narodzenia"
      ]
     },
     "execution_count": 7,
     "metadata": {},
     "output_type": "execute_result"
    }
   ],
   "source": [
    "dniWolne2018"
   ]
  },
  {
   "cell_type": "code",
   "execution_count": 8,
   "metadata": {},
   "outputs": [
    {
     "data": {
      "text/html": [
       "<div>\n",
       "<style scoped>\n",
       "    .dataframe tbody tr th:only-of-type {\n",
       "        vertical-align: middle;\n",
       "    }\n",
       "\n",
       "    .dataframe tbody tr th {\n",
       "        vertical-align: top;\n",
       "    }\n",
       "\n",
       "    .dataframe thead th {\n",
       "        text-align: right;\n",
       "    }\n",
       "</style>\n",
       "<table border=\"1\" class=\"dataframe\">\n",
       "  <thead>\n",
       "    <tr style=\"text-align: right;\">\n",
       "      <th></th>\n",
       "      <th>Ile dni?</th>\n",
       "      <th>Data</th>\n",
       "      <th>Które święta zawiera</th>\n",
       "    </tr>\n",
       "  </thead>\n",
       "  <tbody>\n",
       "    <tr>\n",
       "      <th>0</th>\n",
       "      <td>3</td>\n",
       "      <td>30 grudnia - 1 stycznia</td>\n",
       "      <td>Nowy Rok, Świętej Bożej Rodzicielki</td>\n",
       "    </tr>\n",
       "    <tr>\n",
       "      <th>1</th>\n",
       "      <td>3</td>\n",
       "      <td>31 marca - 2 kwietnia</td>\n",
       "      <td>Wielkanoc, Poniedziałek Wielkanocny</td>\n",
       "    </tr>\n",
       "    <tr>\n",
       "      <th>2</th>\n",
       "      <td>4</td>\n",
       "      <td>28 kwietnia - 1 maja</td>\n",
       "      <td>Święto Pracy</td>\n",
       "    </tr>\n",
       "    <tr>\n",
       "      <th>3</th>\n",
       "      <td>4</td>\n",
       "      <td>3 - 6 maja</td>\n",
       "      <td>Święto Konstytucji 3 Maja</td>\n",
       "    </tr>\n",
       "    <tr>\n",
       "      <th>4</th>\n",
       "      <td>4</td>\n",
       "      <td>31 maja - 3 czerwca</td>\n",
       "      <td>Boże Ciało</td>\n",
       "    </tr>\n",
       "    <tr>\n",
       "      <th>5</th>\n",
       "      <td>4</td>\n",
       "      <td>1 - 4 listopada</td>\n",
       "      <td>Wszystkich Świętych</td>\n",
       "    </tr>\n",
       "    <tr>\n",
       "      <th>6</th>\n",
       "      <td>5</td>\n",
       "      <td>22 - 26 grudnia</td>\n",
       "      <td>pierwszy dzień świąt, drugi dzień świąt</td>\n",
       "    </tr>\n",
       "  </tbody>\n",
       "</table>\n",
       "</div>"
      ],
      "text/plain": [
       "   Ile dni?                     Data                     Które święta zawiera\n",
       "0         3  30 grudnia - 1 stycznia      Nowy Rok, Świętej Bożej Rodzicielki\n",
       "1         3    31 marca - 2 kwietnia      Wielkanoc, Poniedziałek Wielkanocny\n",
       "2         4     28 kwietnia - 1 maja                             Święto Pracy\n",
       "3         4               3 - 6 maja                Święto Konstytucji 3 Maja\n",
       "4         4      31 maja - 3 czerwca                               Boże Ciało\n",
       "5         4          1 - 4 listopada                      Wszystkich Świętych\n",
       "6         5          22 - 26 grudnia  pierwszy dzień świąt, drugi dzień świąt"
      ]
     },
     "execution_count": 8,
     "metadata": {},
     "output_type": "execute_result"
    }
   ],
   "source": [
    "dlugieWeekendy2018"
   ]
  },
  {
   "cell_type": "code",
   "execution_count": 9,
   "metadata": {},
   "outputs": [
    {
     "data": {
      "text/html": [
       "<div>\n",
       "<style scoped>\n",
       "    .dataframe tbody tr th:only-of-type {\n",
       "        vertical-align: middle;\n",
       "    }\n",
       "\n",
       "    .dataframe tbody tr th {\n",
       "        vertical-align: top;\n",
       "    }\n",
       "\n",
       "    .dataframe thead th {\n",
       "        text-align: right;\n",
       "    }\n",
       "</style>\n",
       "<table border=\"1\" class=\"dataframe\">\n",
       "  <thead>\n",
       "    <tr style=\"text-align: right;\">\n",
       "      <th></th>\n",
       "      <th>Data</th>\n",
       "      <th>Dzień</th>\n",
       "      <th>Święta</th>\n",
       "    </tr>\n",
       "  </thead>\n",
       "  <tbody>\n",
       "    <tr>\n",
       "      <th>0</th>\n",
       "      <td>1 styczeń</td>\n",
       "      <td>wtorek</td>\n",
       "      <td>Nowy Rok</td>\n",
       "    </tr>\n",
       "    <tr>\n",
       "      <th>1</th>\n",
       "      <td>6 styczeń</td>\n",
       "      <td>niedziela</td>\n",
       "      <td>Święto Trzech Króli</td>\n",
       "    </tr>\n",
       "    <tr>\n",
       "      <th>2</th>\n",
       "      <td>21 kwiecień</td>\n",
       "      <td>niedziela</td>\n",
       "      <td>Wielkanoc</td>\n",
       "    </tr>\n",
       "    <tr>\n",
       "      <th>3</th>\n",
       "      <td>22 kwiecień</td>\n",
       "      <td>poniedziałek</td>\n",
       "      <td>Poniedziałek Wielkanocny</td>\n",
       "    </tr>\n",
       "    <tr>\n",
       "      <th>4</th>\n",
       "      <td>1 maj</td>\n",
       "      <td>środa</td>\n",
       "      <td>Święto Pracy</td>\n",
       "    </tr>\n",
       "    <tr>\n",
       "      <th>5</th>\n",
       "      <td>3 maj</td>\n",
       "      <td>piątek</td>\n",
       "      <td>Święto Konstytucji 3 Maja</td>\n",
       "    </tr>\n",
       "    <tr>\n",
       "      <th>6</th>\n",
       "      <td>9 czerwiec</td>\n",
       "      <td>niedziela</td>\n",
       "      <td>Zielone Świątki</td>\n",
       "    </tr>\n",
       "    <tr>\n",
       "      <th>7</th>\n",
       "      <td>20 czerwiec</td>\n",
       "      <td>czwartek</td>\n",
       "      <td>Boże Ciało</td>\n",
       "    </tr>\n",
       "    <tr>\n",
       "      <th>8</th>\n",
       "      <td>15 sierpień</td>\n",
       "      <td>czwartek</td>\n",
       "      <td>Wniebowzięcie Najświętszej Maryi Panny</td>\n",
       "    </tr>\n",
       "    <tr>\n",
       "      <th>9</th>\n",
       "      <td>1 listopad</td>\n",
       "      <td>piątek</td>\n",
       "      <td>Wszystkich Świętych</td>\n",
       "    </tr>\n",
       "    <tr>\n",
       "      <th>10</th>\n",
       "      <td>11 listopad</td>\n",
       "      <td>poniedziałek</td>\n",
       "      <td>Święto Niepodległości</td>\n",
       "    </tr>\n",
       "    <tr>\n",
       "      <th>11</th>\n",
       "      <td>25 grudzień</td>\n",
       "      <td>środa</td>\n",
       "      <td>Pierwszy dzień Bożego Narodzenia</td>\n",
       "    </tr>\n",
       "    <tr>\n",
       "      <th>12</th>\n",
       "      <td>26 grudzień</td>\n",
       "      <td>czwartek</td>\n",
       "      <td>Drugi dzień Bożego Narodzenia</td>\n",
       "    </tr>\n",
       "  </tbody>\n",
       "</table>\n",
       "</div>"
      ],
      "text/plain": [
       "           Data         Dzień                                  Święta\n",
       "0     1 styczeń        wtorek                                Nowy Rok\n",
       "1     6 styczeń     niedziela                     Święto Trzech Króli\n",
       "2   21 kwiecień     niedziela                               Wielkanoc\n",
       "3   22 kwiecień  poniedziałek                Poniedziałek Wielkanocny\n",
       "4         1 maj         środa                            Święto Pracy\n",
       "5         3 maj        piątek               Święto Konstytucji 3 Maja\n",
       "6    9 czerwiec     niedziela                         Zielone Świątki\n",
       "7   20 czerwiec      czwartek                              Boże Ciało\n",
       "8   15 sierpień      czwartek  Wniebowzięcie Najświętszej Maryi Panny\n",
       "9    1 listopad        piątek                     Wszystkich Świętych\n",
       "10  11 listopad  poniedziałek                   Święto Niepodległości\n",
       "11  25 grudzień         środa        Pierwszy dzień Bożego Narodzenia\n",
       "12  26 grudzień      czwartek           Drugi dzień Bożego Narodzenia"
      ]
     },
     "execution_count": 9,
     "metadata": {},
     "output_type": "execute_result"
    }
   ],
   "source": [
    "dniWolne2019"
   ]
  },
  {
   "cell_type": "code",
   "execution_count": 10,
   "metadata": {},
   "outputs": [
    {
     "data": {
      "text/html": [
       "<div>\n",
       "<style scoped>\n",
       "    .dataframe tbody tr th:only-of-type {\n",
       "        vertical-align: middle;\n",
       "    }\n",
       "\n",
       "    .dataframe tbody tr th {\n",
       "        vertical-align: top;\n",
       "    }\n",
       "\n",
       "    .dataframe thead th {\n",
       "        text-align: right;\n",
       "    }\n",
       "</style>\n",
       "<table border=\"1\" class=\"dataframe\">\n",
       "  <thead>\n",
       "    <tr style=\"text-align: right;\">\n",
       "      <th></th>\n",
       "      <th>Ile dni?</th>\n",
       "      <th>Data</th>\n",
       "      <th>Które święta zawiera</th>\n",
       "    </tr>\n",
       "  </thead>\n",
       "  <tbody>\n",
       "    <tr>\n",
       "      <th>0</th>\n",
       "      <td>4</td>\n",
       "      <td>29 grudnia - 1 stycznia</td>\n",
       "      <td>Nowy Rok, Świętej Bożej Rodzicielki</td>\n",
       "    </tr>\n",
       "    <tr>\n",
       "      <th>1</th>\n",
       "      <td>3</td>\n",
       "      <td>20 - 22 kwietnia</td>\n",
       "      <td>Wielkanoc, Poniedziałek Wielkanocny</td>\n",
       "    </tr>\n",
       "    <tr>\n",
       "      <th>2</th>\n",
       "      <td>5</td>\n",
       "      <td>1 - 5 maja</td>\n",
       "      <td>Święto Pracy, Święto Konstytucji 3 Maja</td>\n",
       "    </tr>\n",
       "    <tr>\n",
       "      <th>3</th>\n",
       "      <td>4</td>\n",
       "      <td>20 - 23 czerwca</td>\n",
       "      <td>Boże Ciało</td>\n",
       "    </tr>\n",
       "    <tr>\n",
       "      <th>4</th>\n",
       "      <td>4</td>\n",
       "      <td>15 - 18 sierpnia</td>\n",
       "      <td>Święto Wojska Polskiego, Wniebowzięcie Najświę...</td>\n",
       "    </tr>\n",
       "    <tr>\n",
       "      <th>5</th>\n",
       "      <td>3</td>\n",
       "      <td>1 - 3 listopada</td>\n",
       "      <td>Wszystkich Świętych</td>\n",
       "    </tr>\n",
       "    <tr>\n",
       "      <th>6</th>\n",
       "      <td>3</td>\n",
       "      <td>9 - 11 listopada</td>\n",
       "      <td>Święto Niepodległości</td>\n",
       "    </tr>\n",
       "    <tr>\n",
       "      <th>7</th>\n",
       "      <td>5</td>\n",
       "      <td>25 - 29 grudnia</td>\n",
       "      <td>Boże Narodzenie (pierwszy dzień), Boże Narodze...</td>\n",
       "    </tr>\n",
       "  </tbody>\n",
       "</table>\n",
       "</div>"
      ],
      "text/plain": [
       "   Ile dni?                     Data  \\\n",
       "0         4  29 grudnia - 1 stycznia   \n",
       "1         3         20 - 22 kwietnia   \n",
       "2         5               1 - 5 maja   \n",
       "3         4          20 - 23 czerwca   \n",
       "4         4         15 - 18 sierpnia   \n",
       "5         3          1 - 3 listopada   \n",
       "6         3         9 - 11 listopada   \n",
       "7         5          25 - 29 grudnia   \n",
       "\n",
       "                                Które święta zawiera  \n",
       "0                Nowy Rok, Świętej Bożej Rodzicielki  \n",
       "1                Wielkanoc, Poniedziałek Wielkanocny  \n",
       "2            Święto Pracy, Święto Konstytucji 3 Maja  \n",
       "3                                         Boże Ciało  \n",
       "4  Święto Wojska Polskiego, Wniebowzięcie Najświę...  \n",
       "5                                Wszystkich Świętych  \n",
       "6                              Święto Niepodległości  \n",
       "7  Boże Narodzenie (pierwszy dzień), Boże Narodze...  "
      ]
     },
     "execution_count": 10,
     "metadata": {},
     "output_type": "execute_result"
    }
   ],
   "source": [
    "dlugieWeekendy2019"
   ]
  },
  {
   "cell_type": "code",
   "execution_count": 11,
   "metadata": {},
   "outputs": [],
   "source": [
    "import matplotlib.pyplot as plt"
   ]
  },
  {
   "cell_type": "code",
   "execution_count": 12,
   "metadata": {},
   "outputs": [],
   "source": [
    "months2018 = {'styczeń': 0, 'luty': 0, 'marzec': 0, 'kwiecień': 0, 'maj': 0, 'czerwiec': 0, 'lipiec': 0, 'sierpień': 0, 'wrzesień': 0, 'październik': 0, 'listopad': 0, 'grudzień': 0}\n",
    "months2019 = {'styczeń': 0, 'luty': 0, 'marzec': 0, 'kwiecień': 0, 'maj': 0, 'czerwiec': 0, 'lipiec': 0, 'sierpień': 0, 'wrzesień': 0, 'październik': 0, 'listopad': 0, 'grudzień': 0}\n",
    "months = {'styczeń': 1, 'luty': 2, 'marzec': 3, 'kwiecień': 4, 'maj': 5, 'czerwiec': 6, 'lipiec': 7, 'sierpień': 8, 'wrzesień': 9, 'październik': 10, 'listopad': 11, 'grudzień': 12}"
   ]
  },
  {
   "cell_type": "code",
   "execution_count": 13,
   "metadata": {},
   "outputs": [],
   "source": [
    "for date in dniWolne2018['Data']:\n",
    "    for k in months2018:\n",
    "        if k in date:\n",
    "            months2018[k] += 1"
   ]
  },
  {
   "cell_type": "code",
   "execution_count": 14,
   "metadata": {},
   "outputs": [
    {
     "data": {
      "text/plain": [
       "{'styczeń': 2,\n",
       " 'luty': 0,\n",
       " 'marzec': 0,\n",
       " 'kwiecień': 2,\n",
       " 'maj': 4,\n",
       " 'czerwiec': 0,\n",
       " 'lipiec': 0,\n",
       " 'sierpień': 1,\n",
       " 'wrzesień': 0,\n",
       " 'październik': 0,\n",
       " 'listopad': 2,\n",
       " 'grudzień': 2}"
      ]
     },
     "execution_count": 14,
     "metadata": {},
     "output_type": "execute_result"
    }
   ],
   "source": [
    "months2018"
   ]
  },
  {
   "cell_type": "code",
   "execution_count": 15,
   "metadata": {},
   "outputs": [
    {
     "data": {
      "text/plain": [
       "{'styczeń': 2,\n",
       " 'luty': 0,\n",
       " 'marzec': 0,\n",
       " 'kwiecień': 2,\n",
       " 'maj': 2,\n",
       " 'czerwiec': 2,\n",
       " 'lipiec': 0,\n",
       " 'sierpień': 1,\n",
       " 'wrzesień': 0,\n",
       " 'październik': 0,\n",
       " 'listopad': 2,\n",
       " 'grudzień': 2}"
      ]
     },
     "execution_count": 15,
     "metadata": {},
     "output_type": "execute_result"
    }
   ],
   "source": [
    "for date in dniWolne2019['Data']:\n",
    "    for k in months2019:\n",
    "        if k in date:\n",
    "            months2019[k] += 1\n",
    "\n",
    "months2019"
   ]
  },
  {
   "cell_type": "code",
   "execution_count": 16,
   "metadata": {},
   "outputs": [],
   "source": [
    "barDF = pd.DataFrame([list(months2018.values()), list(months2019.values())], columns=list(months.keys()), index = ['2018', '2019'])"
   ]
  },
  {
   "cell_type": "code",
   "execution_count": 17,
   "metadata": {},
   "outputs": [
    {
     "data": {
      "text/html": [
       "<div>\n",
       "<style scoped>\n",
       "    .dataframe tbody tr th:only-of-type {\n",
       "        vertical-align: middle;\n",
       "    }\n",
       "\n",
       "    .dataframe tbody tr th {\n",
       "        vertical-align: top;\n",
       "    }\n",
       "\n",
       "    .dataframe thead th {\n",
       "        text-align: right;\n",
       "    }\n",
       "</style>\n",
       "<table border=\"1\" class=\"dataframe\">\n",
       "  <thead>\n",
       "    <tr style=\"text-align: right;\">\n",
       "      <th></th>\n",
       "      <th>2018</th>\n",
       "      <th>2019</th>\n",
       "    </tr>\n",
       "  </thead>\n",
       "  <tbody>\n",
       "    <tr>\n",
       "      <th>styczeń</th>\n",
       "      <td>2</td>\n",
       "      <td>2</td>\n",
       "    </tr>\n",
       "    <tr>\n",
       "      <th>luty</th>\n",
       "      <td>0</td>\n",
       "      <td>0</td>\n",
       "    </tr>\n",
       "    <tr>\n",
       "      <th>marzec</th>\n",
       "      <td>0</td>\n",
       "      <td>0</td>\n",
       "    </tr>\n",
       "    <tr>\n",
       "      <th>kwiecień</th>\n",
       "      <td>2</td>\n",
       "      <td>2</td>\n",
       "    </tr>\n",
       "    <tr>\n",
       "      <th>maj</th>\n",
       "      <td>4</td>\n",
       "      <td>2</td>\n",
       "    </tr>\n",
       "    <tr>\n",
       "      <th>czerwiec</th>\n",
       "      <td>0</td>\n",
       "      <td>2</td>\n",
       "    </tr>\n",
       "    <tr>\n",
       "      <th>lipiec</th>\n",
       "      <td>0</td>\n",
       "      <td>0</td>\n",
       "    </tr>\n",
       "    <tr>\n",
       "      <th>sierpień</th>\n",
       "      <td>1</td>\n",
       "      <td>1</td>\n",
       "    </tr>\n",
       "    <tr>\n",
       "      <th>wrzesień</th>\n",
       "      <td>0</td>\n",
       "      <td>0</td>\n",
       "    </tr>\n",
       "    <tr>\n",
       "      <th>październik</th>\n",
       "      <td>0</td>\n",
       "      <td>0</td>\n",
       "    </tr>\n",
       "    <tr>\n",
       "      <th>listopad</th>\n",
       "      <td>2</td>\n",
       "      <td>2</td>\n",
       "    </tr>\n",
       "    <tr>\n",
       "      <th>grudzień</th>\n",
       "      <td>2</td>\n",
       "      <td>2</td>\n",
       "    </tr>\n",
       "  </tbody>\n",
       "</table>\n",
       "</div>"
      ],
      "text/plain": [
       "             2018  2019\n",
       "styczeń         2     2\n",
       "luty            0     0\n",
       "marzec          0     0\n",
       "kwiecień        2     2\n",
       "maj             4     2\n",
       "czerwiec        0     2\n",
       "lipiec          0     0\n",
       "sierpień        1     1\n",
       "wrzesień        0     0\n",
       "październik     0     0\n",
       "listopad        2     2\n",
       "grudzień        2     2"
      ]
     },
     "execution_count": 17,
     "metadata": {},
     "output_type": "execute_result"
    }
   ],
   "source": [
    "barDF.T"
   ]
  },
  {
   "cell_type": "code",
   "execution_count": 18,
   "metadata": {},
   "outputs": [
    {
     "data": {
      "text/plain": [
       "<matplotlib.axes._subplots.AxesSubplot at 0x213f1468288>"
      ]
     },
     "execution_count": 18,
     "metadata": {},
     "output_type": "execute_result"
    },
    {
     "data": {
      "image/png": "[encoded data removed]",
      "text/plain": [
       "<Figure size 432x288 with 1 Axes>"
      ]
     },
     "metadata": {
      "needs_background": "light"
     },
     "output_type": "display_data"
    }
   ],
   "source": [
    "barDF.T.plot.bar(title='Porównanie dni wolnych od pracy w 2018 i 2019')"
   ]
  },
  {
   "cell_type": "code",
   "execution_count": 19,
   "metadata": {},
   "outputs": [
    {
     "data": {
      "text/plain": [
       "{'styczeń': 1,\n",
       " 'luty': 0,\n",
       " 'marzec': 1,\n",
       " 'kwiecień': 5,\n",
       " 'maj': 6,\n",
       " 'czerwiec': 3,\n",
       " 'lipiec': 0,\n",
       " 'sierpień': 0,\n",
       " 'wrzesień': 0,\n",
       " 'październik': 0,\n",
       " 'listopad': 4,\n",
       " 'grudzień': 7}"
      ]
     },
     "execution_count": 19,
     "metadata": {},
     "output_type": "execute_result"
    }
   ],
   "source": [
    "freeDays2018 = {'styczeń': 0, 'luty': 0, 'marzec': 0, 'kwiecień': 0, 'maj': 0, 'czerwiec': 0, 'lipiec': 0, 'sierpień': 0, 'wrzesień': 0, 'październik': 0, 'listopad': 0, 'grudzień': 0}\n",
    "freeDays2019 = {'styczeń': 0, 'luty': 0, 'marzec': 0, 'kwiecień': 0, 'maj': 0, 'czerwiec': 0, 'lipiec': 0, 'sierpień': 0, 'wrzesień': 0, 'październik': 0, 'listopad': 0, 'grudzień': 0}\n",
    "\n",
    "    \n",
    "for x in range(len(dlugieWeekendy2018)):\n",
    "    splitted = dlugieWeekendy2018['Data'][x].replace('-', '').split()\n",
    "    if len(splitted) > 3:\n",
    "        less = False\n",
    "        monthDay = splitted[2]\n",
    "    else:\n",
    "        less = True\n",
    "        monthDay = splitted[1]\n",
    "    \n",
    "    numFreeDays = int(dlugieWeekendy2018['Ile dni?'][x])\n",
    "    \n",
    "    if less:\n",
    "        for k in freeDays2018:\n",
    "            if splitted[2][:3] in k:\n",
    "                freeDays2018[k] += numFreeDays\n",
    "    else:\n",
    "        if int(monthDay) - numFreeDays < 0:\n",
    "            prevMonth = numFreeDays - int(monthDay)\n",
    "            monthDay = numFreeDays - prevMonth \n",
    "            for k in freeDays2018:\n",
    "                if splitted[1][:3] in k[:3]:\n",
    "                    freeDays2018[k] += prevMonth\n",
    "                elif splitted[3][:3] in k[:3]:\n",
    "                    freeDays2018[k] += int(monthDay)\n",
    "                \n",
    "freeDays2018"
   ]
  },
  {
   "cell_type": "code",
   "execution_count": 20,
   "metadata": {},
   "outputs": [
    {
     "data": {
      "text/plain": [
       "{'styczeń': 5,\n",
       " 'luty': 0,\n",
       " 'marzec': 0,\n",
       " 'kwiecień': 3,\n",
       " 'maj': 5,\n",
       " 'czerwiec': 4,\n",
       " 'lipiec': 0,\n",
       " 'sierpień': 4,\n",
       " 'wrzesień': 4,\n",
       " 'październik': 0,\n",
       " 'listopad': 6,\n",
       " 'grudzień': 8}"
      ]
     },
     "execution_count": 20,
     "metadata": {},
     "output_type": "execute_result"
    }
   ],
   "source": [
    "for x in range(len(dlugieWeekendy2019)):\n",
    "    splitted = dlugieWeekendy2019['Data'][x].replace('-', '').split()\n",
    "    if len(splitted) > 3:\n",
    "        less = False\n",
    "        monthDay = splitted[2]\n",
    "    else:\n",
    "        less = True\n",
    "        monthDay = splitted[1]\n",
    "    \n",
    "    numFreeDays = int(dlugieWeekendy2019['Ile dni?'][x])\n",
    "    \n",
    "    if less:\n",
    "        for k in freeDays2019:\n",
    "            if splitted[2][:3] in k:\n",
    "                freeDays2019[k] += numFreeDays\n",
    "    else:\n",
    "        if int(monthDay) - numFreeDays < 0:\n",
    "            prevMonth = numFreeDays - int(monthDay)\n",
    "            monthDay = numFreeDays - prevMonth \n",
    "            for k in freeDays2019:\n",
    "                if splitted[1][:3] in k[:3]:\n",
    "                    freeDays2019[k] += prevMonth\n",
    "                elif splitted[3][:3] in k[:3]:\n",
    "                    freeDays2019[k] += int(monthDay)\n",
    "                \n",
    "freeDays2019"
   ]
  },
  {
   "cell_type": "code",
   "execution_count": 21,
   "metadata": {},
   "outputs": [],
   "source": [
    "\n",
    "properFreeDays2018 = {k: v for k, v in freeDays2018.items() if v != 0}\n",
    "properFreeDays2019 = {k: v for k, v in freeDays2019.items() if v != 0}"
   ]
  },
  {
   "cell_type": "code",
   "execution_count": 40,
   "metadata": {},
   "outputs": [
    {
     "name": "stdout",
     "output_type": "stream",
     "text": [
      "[1, 0, 1, 5, 6, 3, 0, 0, 0, 0, 4, 7] [2, 14, 0, 11]\n"
     ]
    }
   ],
   "source": [
    "listFreeDays2018 = list(freeDays2018.values())\n",
    "quarters2018 = [sum(listFreeDays2018[:3]), sum(listFreeDays2018[3:6]), sum(listFreeDays2018[6:9]), sum(listFreeDays2018[9:12])]\n",
    "print(listFreeDays2018, quarters2018)"
   ]
  },
  {
   "cell_type": "code",
   "execution_count": 41,
   "metadata": {},
   "outputs": [
    {
     "name": "stdout",
     "output_type": "stream",
     "text": [
      "[5, 0, 0, 3, 5, 4, 0, 4, 4, 0, 6, 8] [5, 12, 8, 14]\n"
     ]
    }
   ],
   "source": [
    "listFreeDays2019 = list(freeDays2019.values())\n",
    "quarters2019 = [sum(listFreeDays2019[:3]), sum(listFreeDays2019[3:6]), sum(listFreeDays2019[6:9]), sum(listFreeDays2019[9:12])]\n",
    "print(listFreeDays2019, quarters2019)"
   ]
  },
  {
   "cell_type": "code",
   "execution_count": 45,
   "metadata": {},
   "outputs": [
    {
     "data": {
      "text/plain": [
       "Text(0.5, 1.0, 'Quarters - 2019')"
      ]
     },
     "execution_count": 45,
     "metadata": {},
     "output_type": "execute_result"
    },
    {
     "data": {
      "image/png": "[encoded data removed]",
      "text/plain": [
       "<Figure size 576x396 with 4 Axes>"
      ]
     },
     "metadata": {},
     "output_type": "display_data"
    }
   ],
   "source": [
    "plt.style.use('seaborn')\n",
    "fig, ax = plt.subplots(2,2)\n",
    "ax[0, 0].pie(list(properFreeDays2018.values()), labels=list(properFreeDays2018.keys()), autopct='%1.0f%%', pctdistance=0.5, radius = 1.2)\n",
    "ax[0, 1].pie(list(properFreeDays2019.values()), labels=list(properFreeDays2019.keys()), autopct='%1.0f%%', pctdistance=0.5, radius = 1.2)\n",
    "ax[1, 0].pie(quarters2018, labels=[1, 2, 3, 4], autopct='%1.0f%%', pctdistance=0.5, radius = 1.2)\n",
    "ax[1, 1].pie(quarters2019, labels=[1, 2, 3, 4], autopct='%1.0f%%', pctdistance=0.5, radius = 1.2)\n",
    "ax[0, 0].set_title(\"Months - 2018\")\n",
    "ax[0, 1].set_title(\"Months - 2019\")\n",
    "ax[1, 0].set_title(\"Quarters - 2018\")\n",
    "ax[1, 1].set_title(\"Quarters - 2019\")"
   ]
  },
  {
   "cell_type": "code",
   "execution_count": null,
   "metadata": {},
   "outputs": [],
   "source": []
  }
 ],
 "metadata": {
  "kernelspec": {
   "display_name": "Python 3",
   "language": "python",
   "name": "python3"
  },
  "language_info": {
   "codemirror_mode": {
    "name": "ipython",
    "version": 3
   },
   "file_extension": ".py",
   "mimetype": "text/x-python",
   "name": "python",
   "nbconvert_exporter": "python",
   "pygments_lexer": "ipython3",
   "version": "3.7.4"
  }
 },
 "nbformat": 4,
 "nbformat_minor": 2
}
